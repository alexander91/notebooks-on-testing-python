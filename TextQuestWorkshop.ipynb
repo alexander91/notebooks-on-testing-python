{
 "cells": [
  {
   "cell_type": "code",
   "execution_count": 21,
   "metadata": {
    "collapsed": false
   },
   "outputs": [
    {
     "data": {
      "text/plain": [
       "{'a': 12, 'a1': 's', 's': 12}"
      ]
     },
     "execution_count": 21,
     "metadata": {},
     "output_type": "execute_result"
    }
   ],
   "source": [
    "d = {\"s\" : 12, \"a\" : 10, \"a1\" : \"s\"}\n",
    "d[\"a\"] += 2\n",
    "d"
   ]
  },
  {
   "cell_type": "code",
   "execution_count": 24,
   "metadata": {
    "collapsed": false
   },
   "outputs": [
    {
     "data": {
      "text/plain": [
       "[3, 4]"
      ]
     },
     "execution_count": 24,
     "metadata": {},
     "output_type": "execute_result"
    }
   ],
   "source": [
    "a = []\n",
    "a.append(3)\n",
    "a.append(4)\n",
    "a"
   ]
  },
  {
   "cell_type": "code",
   "execution_count": 15,
   "metadata": {
    "collapsed": false
   },
   "outputs": [
    {
     "name": "stdout",
     "output_type": "stream",
     "text": [
      "-1\n"
     ]
    }
   ],
   "source": [
    "separators = ' +-*/=><^&|()'\n",
    "special_symbol = \"#\"\n",
    "\n",
    "def get_next_var(expression):\n",
    "  var_name = ''\n",
    "  found = False\n",
    "  for s in expression:\n",
    "    if s == special_symbol:\n",
    "      found = True\n",
    "    if found:\n",
    "      if s in separators:\n",
    "        break\n",
    "      else:\n",
    "        var_name += s\n",
    "        \n",
    "  if (found and (var_name == '')):\n",
    "      print(\"error in expression: \" + expression) \n",
    "  return var_name\n",
    "\n",
    "get_next_var(\"bla bla #wed #svf\")\n",
    "expression = \"#asdf + 4 - 2*#qwerty\"\n",
    "\n",
    "def calculate_expression(expression, variable_dict):\n",
    "  var = get_next_var(expression)\n",
    "  while var != '':\n",
    "    real_name = var[1:]\n",
    "    value = variable_dict.get(real_name, None)\n",
    "    if (value == None):\n",
    "      print(\"Error - variable not found\")\n",
    "      return\n",
    "    expression = expression.replace(var, '(' + str(value) + ')')\n",
    "    var = get_next_var(expression)\n",
    "  return eval(expression)\n",
    "\n",
    "dictionary = {\"asdf\" : 1, \"qwerty\" : \"1+2\"}\n",
    "{\"asdf\" : 1, \"qwerty\" : \"1+2\"}\n",
    "calculate_expression(\"#asdf + 4 - 2*#qwerty\", dictionary)\n",
    "test = calculate_expression(\"#asdf + 4 - 2*#qwerty\", dictionary)\n",
    "print(test)\n",
    "\n",
    "  "
   ]
  },
  {
   "cell_type": "code",
   "execution_count": null,
   "metadata": {
    "collapsed": true
   },
   "outputs": [],
   "source": [
    "\n",
    "calculate_expression(\"#asdf + 4 - 2*#qwerty\", dictionary)"
   ]
  },
  {
   "cell_type": "code",
   "execution_count": null,
   "metadata": {
    "collapsed": false
   },
   "outputs": [],
   "source": [
    "s = 'qwe dvf erf'\n",
    "s.re"
   ]
  },
  {
   "cell_type": "code",
   "execution_count": null,
   "metadata": {
    "collapsed": true
   },
   "outputs": [],
   "source": []
  },
  {
   "cell_type": "code",
   "execution_count": null,
   "metadata": {
    "collapsed": true
   },
   "outputs": [],
   "source": []
  },
  {
   "cell_type": "code",
   "execution_count": null,
   "metadata": {
    "collapsed": true
   },
   "outputs": [],
   "source": []
  }
 ],
 "metadata": {
  "celltoolbar": "Edit Metadata",
  "kernelspec": {
   "display_name": "Python 3",
   "language": "python",
   "name": "python3"
  },
  "language_info": {
   "codemirror_mode": {
    "name": "ipython",
    "version": 3
   },
   "file_extension": ".py",
   "mimetype": "text/x-python",
   "name": "python",
   "nbconvert_exporter": "python",
   "pygments_lexer": "ipython3",
   "version": "3.4.3"
  }
 },
 "nbformat": 4,
 "nbformat_minor": 0
}
